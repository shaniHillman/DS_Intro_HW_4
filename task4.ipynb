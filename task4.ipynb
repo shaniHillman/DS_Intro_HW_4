{
 "cells": [
  {
   "cell_type": "code",
   "execution_count": 195,
   "id": "e5a68bbb",
   "metadata": {},
   "outputs": [
    {
     "name": "stdout",
     "output_type": "stream",
     "text": [
      "['Istanbul', 'Amsterdam', 'Valletta', 'Basel', 'Doha']\n"
     ]
    }
   ],
   "source": [
    "text= open(\"dests.txt\")\n",
    "destinations = []\n",
    "for dest in text:\n",
    "    dest = dest.rstrip()\n",
    "    destinations.append(dest)\n",
    "print(destinations)"
   ]
  },
  {
   "cell_type": "code",
   "execution_count": 196,
   "id": "605d56fb",
   "metadata": {},
   "outputs": [],
   "source": [
    "import requests\n",
    "import json"
   ]
  },
  {
   "cell_type": "code",
   "execution_count": 197,
   "id": "30dbbaf7",
   "metadata": {},
   "outputs": [],
   "source": [
    "api_key= \"*********""
   ]
  },
  {
   "cell_type": "code",
   "execution_count": 205,
   "id": "415b1cec",
   "metadata": {},
   "outputs": [
    {
     "name": "stdout",
     "output_type": "stream",
     "text": [
      "{'Istanbul': ('1,809 km', '20 hours 42 mins', 28.9783589, 41.0082376), 'Amsterdam': ('4,528 km', '2 days 0 hours', 4.9041389, 52.3675734), 'Valletta': ('3,783 km', '2 days 2 hours', 14.5145528, 35.8989085), 'Basel': ('4,091 km', '1 day 20 hours', 7.5885761, 47.5595986), 'Doha': ('2,104 km', '21 hours 51 mins', 51.53103979999999, 25.2854473)}\n"
     ]
    }
   ],
   "source": [
    "dict = {}\n",
    "for dest in destinations:\n",
    "    temp1 = get_dist_time_jerusalem(dest)\n",
    "    distance = temp1[\"distance\"] \n",
    "    time = temp1[\"time\"]\n",
    "    \n",
    "    temp2 = get_lat_lng(dest)\n",
    "    longitude = temp2[\"lng\"]\n",
    "    latitude =temp2[\"lat\"]\n",
    "    \n",
    "    dict[dest] = (distance,time,longitude,latitude)\n",
    "print(dict)"
   ]
  },
  {
   "cell_type": "code",
   "execution_count": 207,
   "id": "d23a01f5",
   "metadata": {},
   "outputs": [
    {
     "name": "stdout",
     "output_type": "stream",
     "text": [
      "Istanbul\n",
      "The distance from Jerusalem is 1,809 km ,Arrival time from Jerusalem is 20 hours 42 mins ,Longitude is  28.9783589 ,Latitude is  41.0082376\n",
      "\n",
      "Amsterdam\n",
      "The distance from Jerusalem is 4,528 km ,Arrival time from Jerusalem is 2 days 0 hours ,Longitude is  4.9041389 ,Latitude is  52.3675734\n",
      "\n",
      "Valletta\n",
      "The distance from Jerusalem is 3,783 km ,Arrival time from Jerusalem is 2 days 2 hours ,Longitude is  14.5145528 ,Latitude is  35.8989085\n",
      "\n",
      "Basel\n",
      "The distance from Jerusalem is 4,091 km ,Arrival time from Jerusalem is 1 day 20 hours ,Longitude is  7.5885761 ,Latitude is  47.5595986\n",
      "\n",
      "Doha\n",
      "The distance from Jerusalem is 2,104 km ,Arrival time from Jerusalem is 21 hours 51 mins ,Longitude is  51.53103979999999 ,Latitude is  25.2854473\n",
      "\n"
     ]
    }
   ],
   "source": [
    "for key in dict:\n",
    "    print(key)\n",
    "    print(\"The distance from Jerusalem is\",dict[key][0], \",Arrival time from Jerusalem is\", dict[key][1] ,\",Longitude is \" ,dict[key][2],\",Latitude is \",  dict[key][3])\n",
    "    print()"
   ]
  },
  {
   "cell_type": "code",
   "execution_count": 206,
   "id": "85b8b57a",
   "metadata": {},
   "outputs": [
    {
     "name": "stdout",
     "output_type": "stream",
     "text": [
      "the 3 cities furthest from Jerusalem:\n",
      "['Amsterdam', 'Basel', 'Valletta']\n"
     ]
    }
   ],
   "source": [
    "dict_furthest = {}\n",
    "for dest in dict:\n",
    "    dict_furthest[dest] = dict[dest][0].rstrip(' km ')\n",
    "    \n",
    "#print(dict_furthest)\n",
    "dict_furthest = sorted(dict_furthest, key=dict_furthest.get, reverse=True)\n",
    "#print(dict_furthest) \n",
    "\n",
    "print(\"the 3 cities furthest from Jerusalem:\")\n",
    "print(dict_furthest[0:3]) "
   ]
  },
  {
   "cell_type": "code",
   "execution_count": 202,
   "id": "70c3faf4",
   "metadata": {},
   "outputs": [],
   "source": [
    "def get_dist_time_jerusalem(dest):\n",
    "    payload = {'key': api_key, 'origins': 'Jerusalem', 'destinations': dest}\n",
    "    dict= {}\n",
    "    try:\n",
    "        response = requests.get('https://maps.googleapis.com/maps/api/distancematrix/json', params=payload)\n",
    "        if not response.status_code == 200:\n",
    "            print(\"HTTP error\",response.status_code)\n",
    "        else: #status_code=200\n",
    "            try:\n",
    "                response_data = response.json()\n",
    "                #print(response_data)\n",
    "                #print(response_data['rows'][0]['elements'][0]['distance']['text'])\n",
    "                dict[\"distance\"]= response_data['rows'][0]['elements'][0]['distance']['text']\n",
    "                \n",
    "                #print(response_data)\n",
    "                time=(response_data['rows'][0]['elements'][0]['duration']['text'])   \n",
    "                #print(time)\n",
    "                dict[\"time\"]= time\n",
    "                \n",
    "                return(dict)\n",
    "            except:\n",
    "                print(\"Response not in valid JSON format\")\n",
    "    except:\n",
    "        print(\"Something went wrong with requests.get\")\n",
    "        "
   ]
  },
  {
   "cell_type": "code",
   "execution_count": 203,
   "id": "8d1922c0",
   "metadata": {},
   "outputs": [],
   "source": [
    "def get_lat_lng(address_string):\n",
    "    url=\"https://maps.googleapis.com/maps/api/geocode/json?address=%s&key=%s\" % (address_string,api_key)\n",
    "\n",
    "    try:\n",
    "        response = requests.get(url)\n",
    "        if not response.status_code == 200:\n",
    "            print(\"HTTP error\",response.status_code)\n",
    "        else: #status_code=200\n",
    "            try:\n",
    "                response_data = response.json()\n",
    "                #print(response_data)\n",
    "                return(response_data['results'][0]['geometry']['location'])\n",
    "            except:\n",
    "                print(\"Response not in valid JSON format\")\n",
    "    except:\n",
    "        print(\"Something went wrong with requests.get\")"
   ]
  },
  {
   "cell_type": "code",
   "execution_count": null,
   "id": "8b42b73f",
   "metadata": {},
   "outputs": [],
   "source": []
  },
  {
   "cell_type": "code",
   "execution_count": null,
   "id": "cac75ca5",
   "metadata": {},
   "outputs": [],
   "source": []
  }
 ],
 "metadata": {
  "kernelspec": {
   "display_name": "Python 3 (ipykernel)",
   "language": "python",
   "name": "python3"
  },
  "language_info": {
   "codemirror_mode": {
    "name": "ipython",
    "version": 3
   },
   "file_extension": ".py",
   "mimetype": "text/x-python",
   "name": "python",
   "nbconvert_exporter": "python",
   "pygments_lexer": "ipython3",
   "version": "3.9.7"
  }
 },
 "nbformat": 4,
 "nbformat_minor": 5
}
